{
 "cells": [
  {
   "cell_type": "code",
   "execution_count": 1,
   "metadata": {},
   "outputs": [],
   "source": [
    "import zipfile\n",
    "import os\n",
    "import pandas as pd\n",
    "import chardet\n"
   ]
  },
  {
   "cell_type": "markdown",
   "metadata": {},
   "source": [
    "## Loading Data\n",
    "\n",
    "You can download the dataset from [this link](https://www.unb.ca/cic/datasets/ids-2017.html). I opted to use only the processed data in the CSVs folder instead of the raw packets data, as it allows for more direct investigation and easier insight generation.\n",
    "\n",
    "To download the data via terminal, use the following command:\n",
    "```\n",
    "wget -r -np -nH --cut-dirs=3 -R \"index.html*\" http://205.174.165.80/CICDataset/CIC-IDS-2017/Dataset/CIC-IDS-2017/CSVs/\n",
    "```"
   ]
  },
  {
   "cell_type": "code",
   "execution_count": 2,
   "metadata": {},
   "outputs": [],
   "source": [
    "# Unzip the data\n",
    "path = \"GeneratedLabelledFlows.zip\"\n",
    "with zipfile.ZipFile(path, 'r') as zip_ref:\n",
    "    zip_ref.extractall(\".\")\n"
   ]
  },
  {
   "cell_type": "code",
   "execution_count": 3,
   "metadata": {},
   "outputs": [
    {
     "name": "stdout",
     "output_type": "stream",
     "text": [
      "['train_nn.ipynb', 'CICDS2017.ipynb', 'all_data.csv', 'checkpoint', 'label_encoder.pkl', 'GeneratedLabelledFlows.md5', 'model_checkpoint.data-00000-of-00001', 'model_checkpoint.index', 'X_test.csv', 'y_test.csv', 'GeneratedLabelledFlows.zip', 'y_train_sample.npy', 'y_train.csv', 'X_test_sample.npy', 'sample_data.csv', 'TrafficLabelling ', 'nn_model.h5', 'X_train.csv', 'X_train_sample.npy', 'y_test_sample.npy', 'Loading_data.ipynb']\n"
     ]
    }
   ],
   "source": [
    "# print the files in the directory\n",
    "print(os.listdir())\n"
   ]
  },
  {
   "cell_type": "markdown",
   "metadata": {},
   "source": [
    "Folder 'TrafficLabelling ' was created, now let's see what files are in it:"
   ]
  },
  {
   "cell_type": "code",
   "execution_count": 4,
   "metadata": {},
   "outputs": [
    {
     "name": "stdout",
     "output_type": "stream",
     "text": [
      "['Tuesday-WorkingHours.pcap_ISCX.csv', 'Thursday-WorkingHours-Afternoon-Infilteration.pcap_ISCX.csv', 'Friday-WorkingHours-Morning.pcap_ISCX.csv', 'Thursday-WorkingHours-Morning-WebAttacks.pcap_ISCX.csv', 'Friday-WorkingHours-Afternoon-DDos.pcap_ISCX.csv', 'Friday-WorkingHours-Afternoon-PortScan.pcap_ISCX.csv', 'Monday-WorkingHours.pcap_ISCX.csv', 'Wednesday-workingHours.pcap_ISCX.csv']\n"
     ]
    }
   ],
   "source": [
    "folder_data = \"TrafficLabelling /\"\n",
    "print(os.listdir(folder_data))"
   ]
  },
  {
   "cell_type": "markdown",
   "metadata": {},
   "source": [
    "There are 8 CSV files extracted. To facilitate better visualization and preprocessing, combine them into a single dataframe.\n",
    "\n",
    "While reading the CSVs, one of them (`Thursday-WorkingHours-Morning-WebAttacks.pcap_ISCX.csv`) failed due to the following error:\n",
    "\n",
    "```\n",
    "UnicodeDecodeError: 'utf-8' codec can't decode byte 0x96 in position 22398: invalid start byte\n",
    "```\n",
    "\n",
    "This can be fixed by detecting the encoding for each file and using the correct encoding while reading them into a pandas dataframe."
   ]
  },
  {
   "cell_type": "code",
   "execution_count": 5,
   "metadata": {},
   "outputs": [
    {
     "name": "stdout",
     "output_type": "stream",
     "text": [
      "reading file:  Tuesday-WorkingHours.pcap_ISCX.csv\n",
      "reading file:  Thursday-WorkingHours-Afternoon-Infilteration.pcap_ISCX.csv\n",
      "reading file:  Friday-WorkingHours-Morning.pcap_ISCX.csv\n",
      "reading file:  Thursday-WorkingHours-Morning-WebAttacks.pcap_ISCX.csv\n",
      "reading file:  Friday-WorkingHours-Afternoon-DDos.pcap_ISCX.csv\n",
      "reading file:  Friday-WorkingHours-Afternoon-PortScan.pcap_ISCX.csv\n",
      "reading file:  Monday-WorkingHours.pcap_ISCX.csv\n",
      "reading file:  Wednesday-workingHours.pcap_ISCX.csv\n"
     ]
    }
   ],
   "source": [
    "# Load the data into one dataframe all_data to make it easier to visualize and process\n",
    "\n",
    "folder_data = \"TrafficLabelling /\"\n",
    "all_data = pd.DataFrame()\n",
    "\n",
    "for file in os.listdir(folder_data):\n",
    "    if file.endswith(\".csv\"):\n",
    "        print(\"reading file: \", file)\n",
    "\n",
    "        # Detect encoding\n",
    "        with open(folder_data + file, 'rb') as f:\n",
    "            result = chardet.detect(f.read())\n",
    "            encoding = result['encoding']\n",
    "        data = pd.read_csv(folder_data + file, encoding=encoding, low_memory=False, skipinitialspace=True)\n",
    "        all_data = pd.concat([all_data, data])\n",
    "\n"
   ]
  },
  {
   "cell_type": "code",
   "execution_count": 6,
   "metadata": {},
   "outputs": [
    {
     "data": {
      "text/html": [
       "<div>\n",
       "<style scoped>\n",
       "    .dataframe tbody tr th:only-of-type {\n",
       "        vertical-align: middle;\n",
       "    }\n",
       "\n",
       "    .dataframe tbody tr th {\n",
       "        vertical-align: top;\n",
       "    }\n",
       "\n",
       "    .dataframe thead th {\n",
       "        text-align: right;\n",
       "    }\n",
       "</style>\n",
       "<table border=\"1\" class=\"dataframe\">\n",
       "  <thead>\n",
       "    <tr style=\"text-align: right;\">\n",
       "      <th></th>\n",
       "      <th>Flow ID</th>\n",
       "      <th>Source IP</th>\n",
       "      <th>Source Port</th>\n",
       "      <th>Destination IP</th>\n",
       "      <th>Destination Port</th>\n",
       "      <th>Protocol</th>\n",
       "      <th>Timestamp</th>\n",
       "      <th>Flow Duration</th>\n",
       "      <th>Total Fwd Packets</th>\n",
       "      <th>Total Backward Packets</th>\n",
       "      <th>...</th>\n",
       "      <th>min_seg_size_forward</th>\n",
       "      <th>Active Mean</th>\n",
       "      <th>Active Std</th>\n",
       "      <th>Active Max</th>\n",
       "      <th>Active Min</th>\n",
       "      <th>Idle Mean</th>\n",
       "      <th>Idle Std</th>\n",
       "      <th>Idle Max</th>\n",
       "      <th>Idle Min</th>\n",
       "      <th>Label</th>\n",
       "    </tr>\n",
       "  </thead>\n",
       "  <tbody>\n",
       "    <tr>\n",
       "      <th>0</th>\n",
       "      <td>192.168.10.3-192.168.10.5-88-49182-6</td>\n",
       "      <td>192.168.10.5</td>\n",
       "      <td>49182.0</td>\n",
       "      <td>192.168.10.3</td>\n",
       "      <td>88.0</td>\n",
       "      <td>6.0</td>\n",
       "      <td>4/7/2017 8:54</td>\n",
       "      <td>640.0</td>\n",
       "      <td>7.0</td>\n",
       "      <td>4.0</td>\n",
       "      <td>...</td>\n",
       "      <td>20.0</td>\n",
       "      <td>0.0</td>\n",
       "      <td>0.0</td>\n",
       "      <td>0.0</td>\n",
       "      <td>0.0</td>\n",
       "      <td>0.0</td>\n",
       "      <td>0.0</td>\n",
       "      <td>0.0</td>\n",
       "      <td>0.0</td>\n",
       "      <td>BENIGN</td>\n",
       "    </tr>\n",
       "    <tr>\n",
       "      <th>1</th>\n",
       "      <td>192.168.10.3-192.168.10.5-88-49183-6</td>\n",
       "      <td>192.168.10.5</td>\n",
       "      <td>49183.0</td>\n",
       "      <td>192.168.10.3</td>\n",
       "      <td>88.0</td>\n",
       "      <td>6.0</td>\n",
       "      <td>4/7/2017 8:54</td>\n",
       "      <td>900.0</td>\n",
       "      <td>9.0</td>\n",
       "      <td>4.0</td>\n",
       "      <td>...</td>\n",
       "      <td>20.0</td>\n",
       "      <td>0.0</td>\n",
       "      <td>0.0</td>\n",
       "      <td>0.0</td>\n",
       "      <td>0.0</td>\n",
       "      <td>0.0</td>\n",
       "      <td>0.0</td>\n",
       "      <td>0.0</td>\n",
       "      <td>0.0</td>\n",
       "      <td>BENIGN</td>\n",
       "    </tr>\n",
       "    <tr>\n",
       "      <th>2</th>\n",
       "      <td>192.168.10.3-192.168.10.5-88-49184-6</td>\n",
       "      <td>192.168.10.5</td>\n",
       "      <td>49184.0</td>\n",
       "      <td>192.168.10.3</td>\n",
       "      <td>88.0</td>\n",
       "      <td>6.0</td>\n",
       "      <td>4/7/2017 8:54</td>\n",
       "      <td>1205.0</td>\n",
       "      <td>7.0</td>\n",
       "      <td>4.0</td>\n",
       "      <td>...</td>\n",
       "      <td>20.0</td>\n",
       "      <td>0.0</td>\n",
       "      <td>0.0</td>\n",
       "      <td>0.0</td>\n",
       "      <td>0.0</td>\n",
       "      <td>0.0</td>\n",
       "      <td>0.0</td>\n",
       "      <td>0.0</td>\n",
       "      <td>0.0</td>\n",
       "      <td>BENIGN</td>\n",
       "    </tr>\n",
       "    <tr>\n",
       "      <th>3</th>\n",
       "      <td>192.168.10.3-192.168.10.5-88-49185-6</td>\n",
       "      <td>192.168.10.5</td>\n",
       "      <td>49185.0</td>\n",
       "      <td>192.168.10.3</td>\n",
       "      <td>88.0</td>\n",
       "      <td>6.0</td>\n",
       "      <td>4/7/2017 8:54</td>\n",
       "      <td>511.0</td>\n",
       "      <td>7.0</td>\n",
       "      <td>4.0</td>\n",
       "      <td>...</td>\n",
       "      <td>20.0</td>\n",
       "      <td>0.0</td>\n",
       "      <td>0.0</td>\n",
       "      <td>0.0</td>\n",
       "      <td>0.0</td>\n",
       "      <td>0.0</td>\n",
       "      <td>0.0</td>\n",
       "      <td>0.0</td>\n",
       "      <td>0.0</td>\n",
       "      <td>BENIGN</td>\n",
       "    </tr>\n",
       "    <tr>\n",
       "      <th>4</th>\n",
       "      <td>192.168.10.3-192.168.10.5-88-49186-6</td>\n",
       "      <td>192.168.10.5</td>\n",
       "      <td>49186.0</td>\n",
       "      <td>192.168.10.3</td>\n",
       "      <td>88.0</td>\n",
       "      <td>6.0</td>\n",
       "      <td>4/7/2017 8:54</td>\n",
       "      <td>773.0</td>\n",
       "      <td>9.0</td>\n",
       "      <td>4.0</td>\n",
       "      <td>...</td>\n",
       "      <td>20.0</td>\n",
       "      <td>0.0</td>\n",
       "      <td>0.0</td>\n",
       "      <td>0.0</td>\n",
       "      <td>0.0</td>\n",
       "      <td>0.0</td>\n",
       "      <td>0.0</td>\n",
       "      <td>0.0</td>\n",
       "      <td>0.0</td>\n",
       "      <td>BENIGN</td>\n",
       "    </tr>\n",
       "  </tbody>\n",
       "</table>\n",
       "<p>5 rows × 85 columns</p>\n",
       "</div>"
      ],
      "text/plain": [
       "                                Flow ID     Source IP  Source Port  \\\n",
       "0  192.168.10.3-192.168.10.5-88-49182-6  192.168.10.5      49182.0   \n",
       "1  192.168.10.3-192.168.10.5-88-49183-6  192.168.10.5      49183.0   \n",
       "2  192.168.10.3-192.168.10.5-88-49184-6  192.168.10.5      49184.0   \n",
       "3  192.168.10.3-192.168.10.5-88-49185-6  192.168.10.5      49185.0   \n",
       "4  192.168.10.3-192.168.10.5-88-49186-6  192.168.10.5      49186.0   \n",
       "\n",
       "  Destination IP  Destination Port  Protocol      Timestamp  Flow Duration  \\\n",
       "0   192.168.10.3              88.0       6.0  4/7/2017 8:54          640.0   \n",
       "1   192.168.10.3              88.0       6.0  4/7/2017 8:54          900.0   \n",
       "2   192.168.10.3              88.0       6.0  4/7/2017 8:54         1205.0   \n",
       "3   192.168.10.3              88.0       6.0  4/7/2017 8:54          511.0   \n",
       "4   192.168.10.3              88.0       6.0  4/7/2017 8:54          773.0   \n",
       "\n",
       "   Total Fwd Packets  Total Backward Packets  ...  min_seg_size_forward  \\\n",
       "0                7.0                     4.0  ...                  20.0   \n",
       "1                9.0                     4.0  ...                  20.0   \n",
       "2                7.0                     4.0  ...                  20.0   \n",
       "3                7.0                     4.0  ...                  20.0   \n",
       "4                9.0                     4.0  ...                  20.0   \n",
       "\n",
       "   Active Mean  Active Std  Active Max  Active Min  Idle Mean  Idle Std  \\\n",
       "0          0.0         0.0         0.0         0.0        0.0       0.0   \n",
       "1          0.0         0.0         0.0         0.0        0.0       0.0   \n",
       "2          0.0         0.0         0.0         0.0        0.0       0.0   \n",
       "3          0.0         0.0         0.0         0.0        0.0       0.0   \n",
       "4          0.0         0.0         0.0         0.0        0.0       0.0   \n",
       "\n",
       "   Idle Max  Idle Min   Label  \n",
       "0       0.0       0.0  BENIGN  \n",
       "1       0.0       0.0  BENIGN  \n",
       "2       0.0       0.0  BENIGN  \n",
       "3       0.0       0.0  BENIGN  \n",
       "4       0.0       0.0  BENIGN  \n",
       "\n",
       "[5 rows x 85 columns]"
      ]
     },
     "execution_count": 6,
     "metadata": {},
     "output_type": "execute_result"
    }
   ],
   "source": [
    "all_data.head()"
   ]
  },
  {
   "cell_type": "code",
   "execution_count": 12,
   "metadata": {},
   "outputs": [
    {
     "name": "stdout",
     "output_type": "stream",
     "text": [
      "Number of rows that contain only NaN values: 288602\n",
      "Number of rows after dropping rows that contain only NaN values: 2830743\n"
     ]
    }
   ],
   "source": [
    "# Rows that contain olny NaN values\n",
    "nan_rows = all_data[all_data.isnull().all(axis=1)]\n",
    "print(f\"Number of rows that contain only NaN values: {nan_rows.shape[0]}\")\n",
    "\n",
    "# Drop rows that contain only NaN values\n",
    "all_data = all_data.dropna(how='all')\n",
    "print(f\"Number of rows after dropping rows that contain only NaN values: {all_data.shape[0]}\")"
   ]
  },
  {
   "cell_type": "code",
   "execution_count": 14,
   "metadata": {},
   "outputs": [
    {
     "name": "stdout",
     "output_type": "stream",
     "text": [
      "<class 'pandas.core.frame.DataFrame'>\n",
      "Index: 2830743 entries, 0 to 692702\n",
      "Data columns (total 85 columns):\n",
      " #   Column                       Dtype  \n",
      "---  ------                       -----  \n",
      " 0   Flow ID                      object \n",
      " 1   Source IP                    object \n",
      " 2   Source Port                  float64\n",
      " 3   Destination IP               object \n",
      " 4   Destination Port             float64\n",
      " 5   Protocol                     float64\n",
      " 6   Timestamp                    object \n",
      " 7   Flow Duration                float64\n",
      " 8   Total Fwd Packets            float64\n",
      " 9   Total Backward Packets       float64\n",
      " 10  Total Length of Fwd Packets  float64\n",
      " 11  Total Length of Bwd Packets  float64\n",
      " 12  Fwd Packet Length Max        float64\n",
      " 13  Fwd Packet Length Min        float64\n",
      " 14  Fwd Packet Length Mean       float64\n",
      " 15  Fwd Packet Length Std        float64\n",
      " 16  Bwd Packet Length Max        float64\n",
      " 17  Bwd Packet Length Min        float64\n",
      " 18  Bwd Packet Length Mean       float64\n",
      " 19  Bwd Packet Length Std        float64\n",
      " 20  Flow Bytes/s                 float64\n",
      " 21  Flow Packets/s               float64\n",
      " 22  Flow IAT Mean                float64\n",
      " 23  Flow IAT Std                 float64\n",
      " 24  Flow IAT Max                 float64\n",
      " 25  Flow IAT Min                 float64\n",
      " 26  Fwd IAT Total                float64\n",
      " 27  Fwd IAT Mean                 float64\n",
      " 28  Fwd IAT Std                  float64\n",
      " 29  Fwd IAT Max                  float64\n",
      " 30  Fwd IAT Min                  float64\n",
      " 31  Bwd IAT Total                float64\n",
      " 32  Bwd IAT Mean                 float64\n",
      " 33  Bwd IAT Std                  float64\n",
      " 34  Bwd IAT Max                  float64\n",
      " 35  Bwd IAT Min                  float64\n",
      " 36  Fwd PSH Flags                float64\n",
      " 37  Bwd PSH Flags                float64\n",
      " 38  Fwd URG Flags                float64\n",
      " 39  Bwd URG Flags                float64\n",
      " 40  Fwd Header Length            float64\n",
      " 41  Bwd Header Length            float64\n",
      " 42  Fwd Packets/s                float64\n",
      " 43  Bwd Packets/s                float64\n",
      " 44  Min Packet Length            float64\n",
      " 45  Max Packet Length            float64\n",
      " 46  Packet Length Mean           float64\n",
      " 47  Packet Length Std            float64\n",
      " 48  Packet Length Variance       float64\n",
      " 49  FIN Flag Count               float64\n",
      " 50  SYN Flag Count               float64\n",
      " 51  RST Flag Count               float64\n",
      " 52  PSH Flag Count               float64\n",
      " 53  ACK Flag Count               float64\n",
      " 54  URG Flag Count               float64\n",
      " 55  CWE Flag Count               float64\n",
      " 56  ECE Flag Count               float64\n",
      " 57  Down/Up Ratio                float64\n",
      " 58  Average Packet Size          float64\n",
      " 59  Avg Fwd Segment Size         float64\n",
      " 60  Avg Bwd Segment Size         float64\n",
      " 61  Fwd Header Length.1          float64\n",
      " 62  Fwd Avg Bytes/Bulk           float64\n",
      " 63  Fwd Avg Packets/Bulk         float64\n",
      " 64  Fwd Avg Bulk Rate            float64\n",
      " 65  Bwd Avg Bytes/Bulk           float64\n",
      " 66  Bwd Avg Packets/Bulk         float64\n",
      " 67  Bwd Avg Bulk Rate            float64\n",
      " 68  Subflow Fwd Packets          float64\n",
      " 69  Subflow Fwd Bytes            float64\n",
      " 70  Subflow Bwd Packets          float64\n",
      " 71  Subflow Bwd Bytes            float64\n",
      " 72  Init_Win_bytes_forward       float64\n",
      " 73  Init_Win_bytes_backward      float64\n",
      " 74  act_data_pkt_fwd             float64\n",
      " 75  min_seg_size_forward         float64\n",
      " 76  Active Mean                  float64\n",
      " 77  Active Std                   float64\n",
      " 78  Active Max                   float64\n",
      " 79  Active Min                   float64\n",
      " 80  Idle Mean                    float64\n",
      " 81  Idle Std                     float64\n",
      " 82  Idle Max                     float64\n",
      " 83  Idle Min                     float64\n",
      " 84  Label                        object \n",
      "dtypes: float64(80), object(5)\n",
      "memory usage: 1.8+ GB\n"
     ]
    }
   ],
   "source": [
    "all_data.info()"
   ]
  },
  {
   "cell_type": "code",
   "execution_count": null,
   "metadata": {},
   "outputs": [],
   "source": [
    "# Change dtype of the columns to reduce memory usage\n",
    "\n",
    "int_columns = ['Source Port', 'Destination Port', 'Source IP', 'Destination IP', 'Flow Duration', 'Total Fwd Packets', 'Total Backward Packets',\n",
    "               'Total Length of Fwd Packets', 'Total Length of Bwd Packets', 'Fwd Packet Length Max', 'Fwd Packet Length Min', 'Bwd Packet Length Max',\n",
    "               'Bwd Packet Length Min', 'Flow IAT Max', 'Flow IAT Min', 'Fwd IAT Total', 'Fwd IAT Max', 'Fwd IAT Min', 'Bwd IAT Total', 'Bwd IAT Max',\n",
    "               'Bwd IAT Min', ]"
   ]
  },
  {
   "cell_type": "code",
   "execution_count": 16,
   "metadata": {},
   "outputs": [],
   "source": [
    "object_columns = all_data.select_dtypes(include=['object']).columns\n",
    "numeric_columns = all_data.select_dtypes(include=['float64']).columns\n",
    "\n",
    "all_data[numeric_columns] = all_data[numeric_columns].apply(pd.to_numeric)"
   ]
  },
  {
   "cell_type": "code",
   "execution_count": 18,
   "metadata": {},
   "outputs": [],
   "source": [
    "# Take a sample of 600000  rows of the data, to faster and more stable visualization and processing\n",
    "\n",
    "sample_data = all_data.sample(600000, random_state=42)"
   ]
  },
  {
   "cell_type": "code",
   "execution_count": 19,
   "metadata": {},
   "outputs": [],
   "source": [
    "# Save the sample data to a csv file\n",
    "sample_data.to_csv(\"sample_data.csv\", index=False)\n"
   ]
  },
  {
   "cell_type": "code",
   "execution_count": 20,
   "metadata": {},
   "outputs": [],
   "source": [
    "# Save the all data to a csv file\n",
    "all_data.to_csv(\"all_data.csv\", index=False)"
   ]
  }
 ],
 "metadata": {
  "kernelspec": {
   "display_name": "base",
   "language": "python",
   "name": "python3"
  },
  "language_info": {
   "codemirror_mode": {
    "name": "ipython",
    "version": 3
   },
   "file_extension": ".py",
   "mimetype": "text/x-python",
   "name": "python",
   "nbconvert_exporter": "python",
   "pygments_lexer": "ipython3",
   "version": "3.11.9"
  }
 },
 "nbformat": 4,
 "nbformat_minor": 2
}
